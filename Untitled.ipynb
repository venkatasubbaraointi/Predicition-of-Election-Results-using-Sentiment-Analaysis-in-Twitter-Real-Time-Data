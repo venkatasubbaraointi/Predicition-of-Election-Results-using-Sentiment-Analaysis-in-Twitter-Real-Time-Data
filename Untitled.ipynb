{
 "cells": [
  {
   "cell_type": "code",
   "execution_count": 2,
   "metadata": {},
   "outputs": [],
   "source": [
    "from vaderSentiment.vaderSentiment import SentimentIntensityAnalyzer\n",
    "import csv\n",
    "import pandas as pd\n",
    "import matplotlib.pyplot as plt\n",
    "import tkinter\n",
    "from csv import writer\n",
    "from csv import reader"
   ]
  },
  {
   "cell_type": "code",
   "execution_count": 3,
   "metadata": {},
   "outputs": [],
   "source": [
    "analyser = SentimentIntensityAnalyzer()"
   ]
  },
  {
   "cell_type": "code",
   "execution_count": 4,
   "metadata": {},
   "outputs": [],
   "source": [
    "def sentiment_analyzer_scores(sentence):\n",
    "    score = analyser.polarity_scores(sentence)\n",
    "    return score['compound']"
   ]
  },
  {
   "cell_type": "code",
   "execution_count": 9,
   "metadata": {},
   "outputs": [],
   "source": [
    "#main code for vader\n",
    "#polarity for each tweet\n",
    "\n",
    "with open('prep_janasena.csv','r') as csvinput:\n",
    "    with open('janasenaoutput.csv', 'w') as csvoutput:\n",
    "        writer = csv.writer(csvoutput, lineterminator='\\n')\n",
    "        reader = csv.reader(csvinput)\n",
    "\n",
    "        for row in reader:\n",
    "            val=sentiment_analyzer_scores(''.join(row))\n",
    "            if val>0:\n",
    "                row.append('pos')\n",
    "                writer.writerow(row)\n",
    "            elif val < 0:\n",
    "                row.append('neg')\n",
    "                writer.writerow(row)\n",
    "\n",
    "with open('prep_tdp.csv','r') as csvinput:\n",
    "    with open('tdpoutput.csv', 'w') as csvoutput:\n",
    "        writer = csv.writer(csvoutput, lineterminator='\\n')\n",
    "        reader = csv.reader(csvinput)\n",
    "\n",
    "        for row in reader:\n",
    "            val=sentiment_analyzer_scores(''.join(row))\n",
    "            if val>0:\n",
    "                row.append('pos')\n",
    "                writer.writerow(row)\n",
    "            elif val < 0:\n",
    "                row.append('neg')\n",
    "                writer.writerow(row)\n",
    "\n",
    "\n",
    "with open('prep_ysrcp.csv','r') as csvinput:\n",
    "    with open('ysrcpoutput.csv', 'w') as csvoutput:\n",
    "        writer = csv.writer(csvoutput, lineterminator='\\n')\n",
    "        reader = csv.reader(csvinput)\n",
    "\n",
    "        for row in reader:\n",
    "            val=sentiment_analyzer_scores(''.join(row))\n",
    "            if val>0:\n",
    "                row.append('pos')\n",
    "                writer.writerow(row)\n",
    "            elif val < 0:\n",
    "                row.append('neg')\n",
    "                writer.writerow(row)\n"
   ]
  },
  {
   "cell_type": "code",
   "execution_count": null,
   "metadata": {},
   "outputs": [],
   "source": []
  },
  {
   "cell_type": "code",
   "execution_count": null,
   "metadata": {},
   "outputs": [],
   "source": []
  },
  {
   "cell_type": "code",
   "execution_count": null,
   "metadata": {},
   "outputs": [],
   "source": []
  },
  {
   "cell_type": "code",
   "execution_count": null,
   "metadata": {},
   "outputs": [],
   "source": []
  }
 ],
 "metadata": {
  "kernelspec": {
   "display_name": "Python 3",
   "language": "python",
   "name": "python3"
  },
  "language_info": {
   "codemirror_mode": {
    "name": "ipython",
    "version": 3
   },
   "file_extension": ".py",
   "mimetype": "text/x-python",
   "name": "python",
   "nbconvert_exporter": "python",
   "pygments_lexer": "ipython3",
   "version": "3.8.5"
  }
 },
 "nbformat": 4,
 "nbformat_minor": 4
}
